{
  "nbformat": 4,
  "nbformat_minor": 0,
  "metadata": {
    "colab": {
      "name": "3. Listas Doblemente Enlazadas.ipynb",
      "provenance": [],
      "collapsed_sections": [],
      "authorship_tag": "ABX9TyOZSBYk8tmVIp1nh6R8GjNH",
      "include_colab_link": true
    },
    "kernelspec": {
      "name": "python3",
      "display_name": "Python 3"
    },
    "language_info": {
      "name": "python"
    }
  },
  "cells": [
    {
      "cell_type": "markdown",
      "metadata": {
        "id": "view-in-github",
        "colab_type": "text"
      },
      "source": [
        "<a href=\"https://colab.research.google.com/github/AlmaManchame/tareas-ipc2/blob/main/3_Listas_Doblemente_Enlazadas.ipynb\" target=\"_parent\"><img src=\"https://colab.research.google.com/assets/colab-badge.svg\" alt=\"Open In Colab\"/></a>"
      ]
    },
    {
      "cell_type": "markdown",
      "metadata": {
        "id": "mxzHRNUutWuE"
      },
      "source": [
        "##**Listas Doblemente Enlazadas**\n",
        "**Definición de la clase Estudiante**"
      ]
    },
    {
      "cell_type": "code",
      "metadata": {
        "id": "AA7Ip9IjmCUi"
      },
      "source": [
        "class estudiante:\n",
        "  def __init__(self, carne, nombre, edad, direccion, telefono, email, carrera, puesto):\n",
        "    self.carne = carne\n",
        "    self.nombre = nombre\n",
        "    self.edad = edad\n",
        "    self.direccion = direccion\n",
        "    self.telefono = telefono\n",
        "    self.email = email\n",
        "    self.carrera = carrera\n",
        "    self.puesto = puesto"
      ],
      "execution_count": 213,
      "outputs": []
    },
    {
      "cell_type": "markdown",
      "metadata": {
        "id": "rMYViXLJzVyS"
      },
      "source": [
        "**Definición de la clase Nodo**"
      ]
    },
    {
      "cell_type": "code",
      "metadata": {
        "id": "VQ9lSXDzzqD0"
      },
      "source": [
        "class nodo:\n",
        "  def __init__(self, estudiante=None, siguiente=None, anterior=None):\n",
        "    self.estudiante = estudiante\n",
        "    self.siguiente = siguiente\n",
        "    self.anterior = anterior"
      ],
      "execution_count": 214,
      "outputs": []
    },
    {
      "cell_type": "markdown",
      "metadata": {
        "id": "jn3808S30FDG"
      },
      "source": [
        "**Definición de la clase Lista Doblemente Enlazada**"
      ]
    },
    {
      "cell_type": "code",
      "metadata": {
        "id": "3w4sav4c0NEv"
      },
      "source": [
        "class lista_doble:\n",
        "  def __init__(self):\n",
        "    self.primero = None\n",
        "\n",
        "  def insertar(self, estudiante):\n",
        "    if self.primero is None:\n",
        "      self.primero = nodo(estudiante=estudiante)\n",
        "    else:\n",
        "      actual = nodo(estudiante=estudiante, siguiente=self.primero)\n",
        "      self.primero.anterior = actual\n",
        "      self.primero = actual\n",
        "  \n",
        "  def recorrer(self):\n",
        "    if self.primero is None:\n",
        "      return\n",
        "    actual = self.primero\n",
        "    print(\"carne:\", actual.estudiante.carne, \"nombre:\", actual.estudiante.nombre, \"email:\", actual.estudiante.email, \"->\")\n",
        "    while actual.siguiente:\n",
        "      actual = actual.siguiente\n",
        "      print(\"carne:\", actual.estudiante.carne, \"nombre:\", actual.estudiante.nombre, \"email:\", actual.estudiante.email, \"->\")\n",
        "  \n",
        "  def eliminar(self, carne):\n",
        "    actual = self.primero\n",
        "    while actual:\n",
        "      if actual.estudiante.carne == carne:\n",
        "        if actual.anterior:\n",
        "          if actual.siguiente:\n",
        "            actual.anterior.siguiente = actual.siguiente\n",
        "            actual.siguiente.anterior = actual.anterior\n",
        "          else:\n",
        "            actual.anterior.siguiente = None\n",
        "            actual.anterior = None\n",
        "        else:\n",
        "          if actual.siguiente:\n",
        "            self.primero = actual.siguiente\n",
        "            actual.siguiente.anterior = None\n",
        "          else:\n",
        "            self.primero = None\n",
        "        return True\n",
        "      else:\n",
        "        actual = actual.siguiente\n",
        "    return False\n",
        "  \n",
        "  def buscar(self, carne):\n",
        "    actual = self.primero\n",
        "\n",
        "    while actual:\n",
        "      if actual.estudiante.carne==carne:\n",
        "        print(\"carne:\", actual.estudiante.carne, \"nombre:\", actual.estudiante.nombre, \"email:\", actual.estudiante.email, \"->\")\n",
        "        return\n",
        "\n",
        "      actual=actual.siguiente\n",
        "    \n",
        "    \n",
        "      \n"
      ],
      "execution_count": 215,
      "outputs": []
    },
    {
      "cell_type": "markdown",
      "metadata": {
        "id": "B5brZs382OEp"
      },
      "source": [
        "**Creación de objetos Estudiante**"
      ]
    },
    {
      "cell_type": "code",
      "metadata": {
        "id": "3IWIb8Ya2TxB"
      },
      "source": [
        "e1 = estudiante(201915059, \"Gerson Ortiz\", 20, \"9 calle 10.02 zona 1\", 24400101, \"gerson.ortiz@gmail.com\", \"Ingeniería en Sistemas\", \"Programador Jr\")\n",
        "e2 = estudiante(201915860, \"Isabel Ortiz\", 21, \"7 calle 10.02 zona 1\", 24400101, \"isabel.ortiz@gmail.com\", \"Ingeniería en Sistemas\", \"Programador Jr\")\n",
        "e3 = estudiante(201915861, \"Tatiana Ortiz\", 21, \"8 calle 10.02 zona 1\", 24400101, \"tatiana.ortiz@gmail.com\", \"Ingeniería en Sistemas\", \"Programador Jr\")"
      ],
      "execution_count": 216,
      "outputs": []
    },
    {
      "cell_type": "markdown",
      "metadata": {
        "id": "SxBhchCH3kBQ"
      },
      "source": [
        "**Inserción**"
      ]
    },
    {
      "cell_type": "code",
      "metadata": {
        "id": "MJ5Ik39L3nlj"
      },
      "source": [
        "lista_d = lista_doble()\n",
        "lista_d.insertar(e1)\n",
        "lista_d.insertar(e2)\n",
        "lista_d.insertar(e3)"
      ],
      "execution_count": 217,
      "outputs": []
    },
    {
      "cell_type": "markdown",
      "metadata": {
        "id": "iVx3aTfpuQNu"
      },
      "source": [
        "**Recorrer la lista**"
      ]
    },
    {
      "cell_type": "code",
      "metadata": {
        "colab": {
          "base_uri": "https://localhost:8080/"
        },
        "id": "JGm9wNGyzYrQ",
        "outputId": "2eba2fbb-2264-4b7d-f606-1fb6f62904b9"
      },
      "source": [
        "lista_d.recorrer()"
      ],
      "execution_count": 218,
      "outputs": [
        {
          "output_type": "stream",
          "text": [
            "carne: 201915861 nombre: Tatiana Ortiz email: tatiana.ortiz@gmail.com ->\n",
            "carne: 201915860 nombre: Isabel Ortiz email: isabel.ortiz@gmail.com ->\n",
            "carne: 201915059 nombre: Gerson Ortiz email: gerson.ortiz@gmail.com ->\n"
          ],
          "name": "stdout"
        }
      ]
    },
    {
      "cell_type": "markdown",
      "metadata": {
        "id": "uqR7n-ZG248w"
      },
      "source": [
        "**Eliminar el nodo del medio de la lista**"
      ]
    },
    {
      "cell_type": "code",
      "metadata": {
        "colab": {
          "base_uri": "https://localhost:8080/"
        },
        "id": "eDpHJ-JQ7tVV",
        "outputId": "01abca4b-ad50-41b6-be4f-02e37466ee16"
      },
      "source": [
        "lista_d.eliminar(201915860)"
      ],
      "execution_count": 219,
      "outputs": [
        {
          "output_type": "execute_result",
          "data": {
            "text/plain": [
              "True"
            ]
          },
          "metadata": {},
          "execution_count": 219
        }
      ]
    },
    {
      "cell_type": "code",
      "metadata": {
        "colab": {
          "base_uri": "https://localhost:8080/"
        },
        "id": "sz1w1NSd8Cam",
        "outputId": "3c74b363-b9a5-4155-a9d0-b9a36fe0926e"
      },
      "source": [
        "lista_d.recorrer()"
      ],
      "execution_count": 220,
      "outputs": [
        {
          "output_type": "stream",
          "text": [
            "carne: 201915861 nombre: Tatiana Ortiz email: tatiana.ortiz@gmail.com ->\n",
            "carne: 201915059 nombre: Gerson Ortiz email: gerson.ortiz@gmail.com ->\n"
          ],
          "name": "stdout"
        }
      ]
    },
    {
      "cell_type": "markdown",
      "metadata": {
        "id": "X37U0mXW8GZg"
      },
      "source": [
        "**Eliminar el nodo primero de la lista**"
      ]
    },
    {
      "cell_type": "code",
      "metadata": {
        "colab": {
          "base_uri": "https://localhost:8080/"
        },
        "id": "vzLFVPHu8LAH",
        "outputId": "888a0e3d-da22-47e8-e295-fa8e81b36646"
      },
      "source": [
        "lista_d.eliminar(201915861)"
      ],
      "execution_count": 221,
      "outputs": [
        {
          "output_type": "execute_result",
          "data": {
            "text/plain": [
              "True"
            ]
          },
          "metadata": {},
          "execution_count": 221
        }
      ]
    },
    {
      "cell_type": "code",
      "metadata": {
        "colab": {
          "base_uri": "https://localhost:8080/"
        },
        "id": "wRdpUd-H8Rd1",
        "outputId": "cdb9d1ed-3a19-4a33-be91-2ed395987176"
      },
      "source": [
        "lista_d.recorrer()"
      ],
      "execution_count": 222,
      "outputs": [
        {
          "output_type": "stream",
          "text": [
            "carne: 201915059 nombre: Gerson Ortiz email: gerson.ortiz@gmail.com ->\n"
          ],
          "name": "stdout"
        }
      ]
    },
    {
      "cell_type": "markdown",
      "metadata": {
        "id": "46vMfcjfvSIF"
      },
      "source": [
        "**Búsqueda**"
      ]
    },
    {
      "cell_type": "code",
      "metadata": {
        "id": "gG2wsfoOvYf4",
        "colab": {
          "base_uri": "https://localhost:8080/"
        },
        "outputId": "6ae17fed-00ae-4fbb-c496-49d46b1b748e"
      },
      "source": [
        "lista_d.buscar(201915059)"
      ],
      "execution_count": 223,
      "outputs": [
        {
          "output_type": "stream",
          "text": [
            "carne: 201915059 nombre: Gerson Ortiz email: gerson.ortiz@gmail.com ->\n"
          ],
          "name": "stdout"
        }
      ]
    }
  ]
}