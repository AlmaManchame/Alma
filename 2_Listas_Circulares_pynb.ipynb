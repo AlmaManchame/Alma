{
  "nbformat": 4,
  "nbformat_minor": 0,
  "metadata": {
    "colab": {
      "name": "2. Listas Circulares.pynb",
      "provenance": [],
      "collapsed_sections": [],
      "authorship_tag": "ABX9TyN7C5wFVGfly7iE0GrokpdB",
      "include_colab_link": true
    },
    "kernelspec": {
      "name": "python3",
      "display_name": "Python 3"
    },
    "language_info": {
      "name": "python"
    }
  },
  "cells": [
    {
      "cell_type": "markdown",
      "metadata": {
        "id": "view-in-github",
        "colab_type": "text"
      },
      "source": [
        "<a href=\"https://colab.research.google.com/github/AlmaManchame/Alma/blob/main/2_Listas_Circulares_pynb.ipynb\" target=\"_parent\"><img src=\"https://colab.research.google.com/assets/colab-badge.svg\" alt=\"Open In Colab\"/></a>"
      ]
    },
    {
      "cell_type": "markdown",
      "metadata": {
        "id": "NmYlr-jqtqbr"
      },
      "source": [
        "#**Listas Circulares**\n",
        "**Definición de la clase Estudiante**\n"
      ]
    },
    {
      "cell_type": "code",
      "metadata": {
        "id": "yjFBfKB3uRuM"
      },
      "source": [
        "class estudiante:\n",
        "  def __init__(self, carne, nombre, edad, direccion, telefono, email, carrera, puesto):\n",
        "    self.carne =carne\n",
        "    self.nombre=nombre\n",
        "    self.edad=edad\n",
        "    self.direccion=direccion\n",
        "    self.telefono=telefono\n",
        "    self.email=email\n",
        "    self.carrera=carrera\n",
        "    self.puesto=puesto\n",
        "\n"
      ],
      "execution_count": null,
      "outputs": []
    },
    {
      "cell_type": "markdown",
      "metadata": {
        "id": "pBFTyAE9zT8O"
      },
      "source": [
        "**Definición de la clase Nodo**"
      ]
    },
    {
      "cell_type": "code",
      "metadata": {
        "id": "VuiQa2RezX-W"
      },
      "source": [
        "class nodo:\n",
        "  def __init__(self,estudiante=None, siguiente=None):\n",
        "    self.estudiante=estudiante\n",
        "    self.siguiente=siguiente"
      ],
      "execution_count": null,
      "outputs": []
    },
    {
      "cell_type": "markdown",
      "metadata": {
        "id": "5yDLvy_72-Qc"
      },
      "source": [
        "**Definición de clase Lista Circular**"
      ]
    },
    {
      "cell_type": "code",
      "metadata": {
        "id": "tU30B4UTNnR0"
      },
      "source": [
        "class lista_circular:\n",
        "  def _init_(self):\n",
        "    self.primero = None\n",
        "\n",
        "  def insertar(self, estudiante):\n",
        "    if self.primero is None:\n",
        "      self.primero = nodo(estudiante=estudiante)\n",
        "      self.primero.siguiente = self.primero\n",
        "    else:\n",
        "      actual = nodo(estudiante=estudiante, siguiente=primero.siguiente)\n",
        "      self.primero.siguiente = actual\n",
        "\n",
        "    def recorrer(self):\n",
        "      if self.primero is None:\n",
        "        return\n",
        "\n",
        "      actual = self.primero\n",
        "      print(\"carne: \", actual.estudiante.carne, \"nombre: \", actual.estudiante.nombre, \"email: \", actual.estudiante.email, \"->\")\n",
        "      while actual.siguiente != self.primero:\n",
        "        actual = actual.siguiente\n",
        "        print(\"carne: \", actual.estudiante.carne, \"nombre: \", actual.estudiante.nombre, \"email: \", actual.estudiante.email, \"->\")"
      ],
      "execution_count": null,
      "outputs": []
    }
  ]
}