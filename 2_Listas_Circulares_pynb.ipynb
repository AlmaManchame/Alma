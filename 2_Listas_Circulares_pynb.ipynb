{
  "nbformat": 4,
  "nbformat_minor": 0,
  "metadata": {
    "colab": {
      "name": "2. Listas Circulares.pynb",
      "provenance": [],
      "collapsed_sections": [],
      "authorship_tag": "ABX9TyNfv2wsKWxLF5t5RNOQ/hKP",
      "include_colab_link": true
    },
    "kernelspec": {
      "name": "python3",
      "display_name": "Python 3"
    },
    "language_info": {
      "name": "python"
    }
  },
  "cells": [
    {
      "cell_type": "markdown",
      "metadata": {
        "id": "view-in-github",
        "colab_type": "text"
      },
      "source": [
        "<a href=\"https://colab.research.google.com/github/AlmaManchame/tareas-ipc2/blob/main/2_Listas_Circulares_pynb.ipynb\" target=\"_parent\"><img src=\"https://colab.research.google.com/assets/colab-badge.svg\" alt=\"Open In Colab\"/></a>"
      ]
    },
    {
      "cell_type": "markdown",
      "metadata": {
        "id": "NmYlr-jqtqbr"
      },
      "source": [
        "#**Listas Circulares**\n",
        "**Definición de la clase Estudiante**\n"
      ]
    },
    {
      "cell_type": "code",
      "metadata": {
        "id": "yjFBfKB3uRuM"
      },
      "source": [
        "class estudiante:\n",
        "  def __init__(self, carne, nombre, edad, direccion, telefono, email, carrera, puesto):\n",
        "    self.carne =carne\n",
        "    self.nombre=nombre\n",
        "    self.edad=edad\n",
        "    self.direccion=direccion\n",
        "    self.telefono=telefono\n",
        "    self.email=email\n",
        "    self.carrera=carrera\n",
        "    self.puesto=puesto\n",
        "\n"
      ],
      "execution_count": null,
      "outputs": []
    },
    {
      "cell_type": "markdown",
      "metadata": {
        "id": "pBFTyAE9zT8O"
      },
      "source": [
        "**Definición de la clase Nodo**"
      ]
    },
    {
      "cell_type": "code",
      "metadata": {
        "id": "VuiQa2RezX-W"
      },
      "source": [
        "class nodo:\n",
        "  def __init__(self,estudiante=None, siguiente=None):\n",
        "    self.estudiante=estudiante\n",
        "    self.siguiente=siguiente"
      ],
      "execution_count": null,
      "outputs": []
    },
    {
      "cell_type": "markdown",
      "metadata": {
        "id": "5yDLvy_72-Qc"
      },
      "source": [
        "**Definición de clase Lista Circular**"
      ]
    },
    {
      "cell_type": "code",
      "metadata": {
        "id": "tU30B4UTNnR0"
      },
      "source": [
        "class lista_circular:\n",
        "  def _init_(self):\n",
        "    self.primero = None\n",
        "\n",
        "  def insertar(self, estudiante):\n",
        "    if self.primero is None:\n",
        "      self.primero = nodo(estudiante=estudiante)\n",
        "      self.primero.siguiente = self.primero\n",
        "    else:\n",
        "      actual = nodo(estudiante=estudiante, siguiente=primero.siguiente)\n",
        "      self.primero.siguiente = actual\n",
        "\n",
        "    def recorrer(self):\n",
        "      if self.primero is None:\n",
        "        return\n",
        "\n",
        "      actual = self.primero\n",
        "      print(\"carne: \", actual.estudiante.carne, \"nombre: \", actual.estudiante.nombre, \"email: \", actual.estudiante.email, \"->\")\n",
        "      while actual.siguiente != self.primero:\n",
        "        actual = actual.siguiente\n",
        "        print(\"carne: \", actual.estudiante.carne, \"nombre: \", actual.estudiante.nombre, \"email: \", actual.estudiante.email, \"->\")\n",
        "\n",
        "  def eliminar(self, carne):\n",
        "    actual = self.primero\n",
        "    anterior = None\n",
        "    no_encontrado = False\n",
        "    \n",
        "    while actual and actual.estudiante.carne != carne:\n",
        "      anterior = actual\n",
        "      actual = actual.siguiente\n",
        "      if actual == self.primero:\n",
        "        no_encontrado = True\n",
        "        break\n",
        "        \n",
        "      if not no_encontrado:\n",
        "        if anterior is not None:\n",
        "          anterior.siguiente = actual.siguiente\n",
        "        else:\n",
        "          while actual.siguiente != self.primero:\n",
        "            actual = actual.siguiente\n",
        "          actual.siguiente = self.primero.siguiente\n",
        "          self.primero = self.primero.siguiente\n",
        "    \n",
        "    def buscar(self, carne):\n",
        "      actual = self.primero\n",
        "      anterior = None\n",
        "      no_encontrado = False\n",
        "      \n",
        "      while actual:\n",
        "        anterior = actual\n",
        "        actual = actual.siguiente\n",
        "        if actual.estudiante.carne ==carne :\n",
        "          print(\"carne: \", actual.estudiante.carne, \"nombre: \", actual.estudiante.nombre, \"email: \", actual.estudiante.email, \"->\")\n",
        "          break\n",
        "          \n",
        "       \n",
        "      "
      ],
      "execution_count": null,
      "outputs": []
    },
    {
      "cell_type": "markdown",
      "metadata": {
        "id": "v9bVt35_yhmv"
      },
      "source": [
        "####**Creación de objetos Estudiante**"
      ]
    },
    {
      "cell_type": "code",
      "metadata": {
        "id": "LG1y8-7iyrOv"
      },
      "source": [
        "e1=estudiante(2019002623,'Gerson Ortiz',20,'9 calle 10-02 zona 1',22020202,'gerson.ortiz@gmail.com','Ingeniería','puesto 3')\n",
        "e2=estudiante(2018002624,'Isabel Ortiz',20,'9 calle 10-02 zona 1',22020202,'isabel.ortiz@gmail.com','Ingeniería','puesto 1')\n",
        "e3=estudiante(2017002626,'Ramona Ortiz',20,'9 calle 10-02 zona 1',22020202,'ramona.ortiz@gmail.com','Ingeniería','puesto 2')"
      ],
      "execution_count": null,
      "outputs": []
    },
    {
      "cell_type": "markdown",
      "metadata": {
        "id": "ze3m2eya0s2v"
      },
      "source": [
        "####**Inserción**"
      ]
    },
    {
      "cell_type": "code",
      "metadata": {
        "id": "q0MBdOK31HWa"
      },
      "source": [
        "lista_c=lista_circular()\n",
        "lista_c.insertar(e1)\n",
        "lista_c.insertar(e2)\n",
        "lista_c.insertar(e3)"
      ],
      "execution_count": null,
      "outputs": []
    },
    {
      "cell_type": "markdown",
      "metadata": {
        "id": "Ym0H45mhwbPR"
      },
      "source": [
        "####**Recorrer la lista**"
      ]
    },
    {
      "cell_type": "code",
      "metadata": {
        "id": "el7SeAFCwhcX"
      },
      "source": [
        "lista_c.recorrer()"
      ],
      "execution_count": null,
      "outputs": []
    },
    {
      "cell_type": "markdown",
      "metadata": {
        "id": "f00dvcJ31RsP"
      },
      "source": [
        "####**Eliminar nodo de la lista**"
      ]
    },
    {
      "cell_type": "code",
      "metadata": {
        "id": "r78P_jrY1d5e"
      },
      "source": [
        "lista_c.eliminar(2017002626)"
      ],
      "execution_count": null,
      "outputs": []
    },
    {
      "cell_type": "markdown",
      "metadata": {
        "id": "NZIa34JN217v"
      },
      "source": [
        "####**Recorrer la lista**"
      ]
    },
    {
      "cell_type": "code",
      "metadata": {
        "id": "J6x8yUKC26p-"
      },
      "source": [
        "lista_c.recorrer()"
      ],
      "execution_count": null,
      "outputs": []
    },
    {
      "cell_type": "markdown",
      "metadata": {
        "id": "SzkbxGbVGCtb"
      },
      "source": [
        "####**Buscar**"
      ]
    },
    {
      "cell_type": "code",
      "metadata": {
        "id": "HeCDg7SFGFdy"
      },
      "source": [
        "lista_c.buscar(2019002623)"
      ],
      "execution_count": null,
      "outputs": []
    }
  ]
}